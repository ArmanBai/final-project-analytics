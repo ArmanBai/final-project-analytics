{
 "cells": [
  {
   "cell_type": "code",
   "execution_count": 1,
   "id": "483388f9-94f0-4708-b9bc-891591e8341c",
   "metadata": {},
   "outputs": [],
   "source": [
    "import pandas as pd"
   ]
  },
  {
   "cell_type": "code",
   "execution_count": 2,
   "id": "460db559-fa56-489b-acd1-d8e8c21ad54c",
   "metadata": {},
   "outputs": [
    {
     "data": {
      "text/html": [
       "<div>\n",
       "<style scoped>\n",
       "    .dataframe tbody tr th:only-of-type {\n",
       "        vertical-align: middle;\n",
       "    }\n",
       "\n",
       "    .dataframe tbody tr th {\n",
       "        vertical-align: top;\n",
       "    }\n",
       "\n",
       "    .dataframe thead th {\n",
       "        text-align: right;\n",
       "    }\n",
       "</style>\n",
       "<table border=\"1\" class=\"dataframe\">\n",
       "  <thead>\n",
       "    <tr style=\"text-align: right;\">\n",
       "      <th></th>\n",
       "      <th>date</th>\n",
       "      <th>user_id</th>\n",
       "      <th>view_adverts</th>\n",
       "    </tr>\n",
       "  </thead>\n",
       "  <tbody>\n",
       "    <tr>\n",
       "      <th>0</th>\n",
       "      <td>2023-11-11</td>\n",
       "      <td>8c020470-8461-11ed-83d0-552e8cc749d6</td>\n",
       "      <td>13</td>\n",
       "    </tr>\n",
       "    <tr>\n",
       "      <th>1</th>\n",
       "      <td>2023-11-18</td>\n",
       "      <td>5875f070-7b92-11ee-a6fb-8b298e83f4f7</td>\n",
       "      <td>14</td>\n",
       "    </tr>\n",
       "    <tr>\n",
       "      <th>2</th>\n",
       "      <td>2023-11-29</td>\n",
       "      <td>3c2d27c0-4fd6-11eb-b89f-2ffb31b67dd6</td>\n",
       "      <td>21</td>\n",
       "    </tr>\n",
       "    <tr>\n",
       "      <th>3</th>\n",
       "      <td>2023-11-29</td>\n",
       "      <td>234a96d0-ad16-11ed-a2e6-793ddfeeba1f</td>\n",
       "      <td>23</td>\n",
       "    </tr>\n",
       "    <tr>\n",
       "      <th>4</th>\n",
       "      <td>2023-11-29</td>\n",
       "      <td>4d07c180-644f-11eb-879c-b7c02edf4f37</td>\n",
       "      <td>12</td>\n",
       "    </tr>\n",
       "  </tbody>\n",
       "</table>\n",
       "</div>"
      ],
      "text/plain": [
       "        date                               user_id  view_adverts\n",
       "0 2023-11-11  8c020470-8461-11ed-83d0-552e8cc749d6            13\n",
       "1 2023-11-18  5875f070-7b92-11ee-a6fb-8b298e83f4f7            14\n",
       "2 2023-11-29  3c2d27c0-4fd6-11eb-b89f-2ffb31b67dd6            21\n",
       "3 2023-11-29  234a96d0-ad16-11ed-a2e6-793ddfeeba1f            23\n",
       "4 2023-11-29  4d07c180-644f-11eb-879c-b7c02edf4f37            12"
      ]
     },
     "execution_count": 2,
     "metadata": {},
     "output_type": "execute_result"
    }
   ],
   "source": [
    "df_audience = pd.read_excel('Данные для тестового задания.xlsx', sheet_name='Данные об аудитории')\n",
    "df_audience.head()"
   ]
  },
  {
   "cell_type": "code",
   "execution_count": 3,
   "id": "a3028229-00c5-4443-b51b-433b2ca31d73",
   "metadata": {},
   "outputs": [],
   "source": [
    "df_audience['date'] = pd.to_datetime(df_audience['date'])"
   ]
  },
  {
   "cell_type": "code",
   "execution_count": 4,
   "id": "b886f680-d992-4d95-892c-ddf66e3f7608",
   "metadata": {},
   "outputs": [],
   "source": [
    "november_df = df_audience[\n",
    "    (df_audience['date'].dt.month == 11) & \n",
    "    (df_audience['date'].dt.year == 2023)\n",
    "]"
   ]
  },
  {
   "cell_type": "code",
   "execution_count": 5,
   "id": "292e48ac-3e2d-4a0e-8f33-cb931b08c0f8",
   "metadata": {},
   "outputs": [
    {
     "name": "stdout",
     "output_type": "stream",
     "text": [
      "MAU за ноябрь 2023: 7639\n"
     ]
    }
   ],
   "source": [
    "mau = november_df['user_id'].nunique()\n",
    "print(f'MAU за ноябрь 2023: {mau}')"
   ]
  },
  {
   "cell_type": "code",
   "execution_count": 6,
   "id": "2d8a1c64-a38f-4bbd-9b91-063a72024bdd",
   "metadata": {},
   "outputs": [],
   "source": [
    "#2"
   ]
  },
  {
   "cell_type": "code",
   "execution_count": 7,
   "id": "b2be6134-fda6-496a-a0b1-55fcb0436a58",
   "metadata": {},
   "outputs": [
    {
     "name": "stdout",
     "output_type": "stream",
     "text": [
      "date\n",
      "2023-11-01    623\n",
      "2023-11-02    649\n",
      "2023-11-03    573\n",
      "2023-11-04    343\n",
      "2023-11-05    350\n",
      "Name: user_id, dtype: int64\n"
     ]
    }
   ],
   "source": [
    "dau_per_day = november_df.groupby('date')['user_id'].nunique()\n",
    "print(dau_per_day.head())"
   ]
  },
  {
   "cell_type": "code",
   "execution_count": 8,
   "id": "0378320d-69bf-47f8-9745-667cc241d74f",
   "metadata": {},
   "outputs": [
    {
     "name": "stdout",
     "output_type": "stream",
     "text": [
      "560\n"
     ]
    }
   ],
   "source": [
    "average_dau = dau_per_day.mean()\n",
    "print(round(average_dau))"
   ]
  },
  {
   "cell_type": "code",
   "execution_count": 9,
   "id": "ecf61a49-b6bc-4747-885d-355ac9697b2f",
   "metadata": {},
   "outputs": [
    {
     "data": {
      "text/plain": [
       "560"
      ]
     },
     "execution_count": 9,
     "metadata": {},
     "output_type": "execute_result"
    }
   ],
   "source": [
    "round(dau_per_day.mean())"
   ]
  },
  {
   "cell_type": "code",
   "execution_count": 10,
   "id": "d650846e-3cf8-44c0-8fe6-13d67e61deaf",
   "metadata": {},
   "outputs": [],
   "source": [
    "#3"
   ]
  },
  {
   "cell_type": "code",
   "execution_count": 11,
   "id": "2cd3b891-cd63-495c-a509-1d2b1968dd94",
   "metadata": {},
   "outputs": [
    {
     "name": "stdout",
     "output_type": "stream",
     "text": [
      "D1 Retention: 26.6%\n"
     ]
    }
   ],
   "source": [
    "users_1_nov = november_df[november_df['date'] == '2023-11-01']['user_id'].unique()\n",
    "users_1_nov_set = set(users_1_nov)\n",
    "\n",
    "users_2_nov = november_df[november_df['date'] == '2023-11-02']['user_id'].unique()\n",
    "users_2_nov_set = set(users_2_nov)\n",
    "\n",
    "retained_users = users_1_nov_set & users_2_nov_set\n",
    "\n",
    "retention_d1 = len(retained_users) / len(users_1_nov) * 100\n",
    "print(f\"D1 Retention: {round(retention_d1, 1)}%\")"
   ]
  },
  {
   "cell_type": "code",
   "execution_count": 12,
   "id": "0a542fba-7703-4266-b23d-be5fcbe4c9f2",
   "metadata": {},
   "outputs": [],
   "source": [
    "#5"
   ]
  },
  {
   "cell_type": "code",
   "execution_count": 13,
   "id": "8f4b1fbc-71e5-49e4-affc-0b8b0a84f6da",
   "metadata": {},
   "outputs": [
    {
     "name": "stdout",
     "output_type": "stream",
     "text": [
      "Пользовательская конверсия: 46.3%\n"
     ]
    }
   ],
   "source": [
    "total_users = november_df['user_id'].nunique()\n",
    "converted_users = november_df[november_df['view_adverts'] > 0]['user_id'].nunique()\n",
    "conversion_rate = converted_users / total_users * 100\n",
    "print(f'Пользовательская конверсия: {round(conversion_rate, 1)}%')"
   ]
  },
  {
   "cell_type": "code",
   "execution_count": 14,
   "id": "f6d93197-f796-4f2d-ae97-26d8945cbaf8",
   "metadata": {},
   "outputs": [],
   "source": [
    "#6"
   ]
  },
  {
   "cell_type": "code",
   "execution_count": 15,
   "id": "e87420eb-b11f-4171-b11b-63a741e12048",
   "metadata": {},
   "outputs": [
    {
     "name": "stdout",
     "output_type": "stream",
     "text": [
      "Среднее количество просмотров: 2.9\n"
     ]
    }
   ],
   "source": [
    "total_views = november_df['view_adverts'].sum()\n",
    "unique_users = november_df['user_id'].nunique()\n",
    "average_views = total_views / unique_users\n",
    "print(f'Среднее количество просмотров: {round(average_views, 1)}')"
   ]
  },
  {
   "cell_type": "code",
   "execution_count": 16,
   "id": "0ce451bd-741a-4c7c-a051-c3d80b97aa5c",
   "metadata": {},
   "outputs": [],
   "source": [
    "#7"
   ]
  },
  {
   "cell_type": "code",
   "execution_count": 17,
   "id": "92c3b843-b241-4002-95c1-414144026225",
   "metadata": {},
   "outputs": [
    {
     "name": "stdout",
     "output_type": "stream",
     "text": [
      "NPS: 35%\n"
     ]
    }
   ],
   "source": [
    "promoters = 1200\n",
    "passives = 300\n",
    "detractors = 500\n",
    "total = 2000\n",
    "\n",
    "nps = ((promoters / total) - (detractors / total)) * 100\n",
    "print(f'NPS: {round(nps)}%')"
   ]
  },
  {
   "cell_type": "code",
   "execution_count": 18,
   "id": "269d3039-2eee-46bb-8510-d309e636fbc5",
   "metadata": {},
   "outputs": [],
   "source": [
    "#8"
   ]
  },
  {
   "cell_type": "code",
   "execution_count": 24,
   "id": "e89e316b-96c4-4d0f-9921-d54b404805fc",
   "metadata": {},
   "outputs": [
    {
     "data": {
      "text/html": [
       "<div>\n",
       "<style scoped>\n",
       "    .dataframe tbody tr th:only-of-type {\n",
       "        vertical-align: middle;\n",
       "    }\n",
       "\n",
       "    .dataframe tbody tr th {\n",
       "        vertical-align: top;\n",
       "    }\n",
       "\n",
       "    .dataframe thead th {\n",
       "        text-align: right;\n",
       "    }\n",
       "</style>\n",
       "<table border=\"1\" class=\"dataframe\">\n",
       "  <thead>\n",
       "    <tr style=\"text-align: right;\">\n",
       "      <th></th>\n",
       "      <th>experiment_num</th>\n",
       "      <th>experiment_group</th>\n",
       "      <th>user_id</th>\n",
       "      <th>revenue</th>\n",
       "    </tr>\n",
       "  </thead>\n",
       "  <tbody>\n",
       "    <tr>\n",
       "      <th>0</th>\n",
       "      <td>1</td>\n",
       "      <td>test</td>\n",
       "      <td>38456</td>\n",
       "      <td>520</td>\n",
       "    </tr>\n",
       "    <tr>\n",
       "      <th>1</th>\n",
       "      <td>1</td>\n",
       "      <td>control</td>\n",
       "      <td>13125924</td>\n",
       "      <td>806</td>\n",
       "    </tr>\n",
       "    <tr>\n",
       "      <th>2</th>\n",
       "      <td>1</td>\n",
       "      <td>control</td>\n",
       "      <td>9761984</td>\n",
       "      <td>0</td>\n",
       "    </tr>\n",
       "    <tr>\n",
       "      <th>3</th>\n",
       "      <td>1</td>\n",
       "      <td>test</td>\n",
       "      <td>11387012</td>\n",
       "      <td>208</td>\n",
       "    </tr>\n",
       "    <tr>\n",
       "      <th>4</th>\n",
       "      <td>1</td>\n",
       "      <td>test</td>\n",
       "      <td>18319648</td>\n",
       "      <td>104</td>\n",
       "    </tr>\n",
       "  </tbody>\n",
       "</table>\n",
       "</div>"
      ],
      "text/plain": [
       "   experiment_num experiment_group   user_id  revenue\n",
       "0               1             test     38456      520\n",
       "1               1          control  13125924      806\n",
       "2               1          control   9761984        0\n",
       "3               1             test  11387012      208\n",
       "4               1             test  18319648      104"
      ]
     },
     "execution_count": 24,
     "metadata": {},
     "output_type": "execute_result"
    }
   ],
   "source": [
    "import pandas as pd\n",
    "\n",
    "df_ab = pd.read_excel('Данные для тестового задания.xlsx', sheet_name='Данные АБ тестов')\n",
    "df_ab.head()"
   ]
  },
  {
   "cell_type": "code",
   "execution_count": 25,
   "id": "939d4bbd-463c-4253-82df-7defb8f083c3",
   "metadata": {},
   "outputs": [
    {
     "name": "stdout",
     "output_type": "stream",
     "text": [
      "Эксперимент 1:\n",
      "  ARPU test:    665.74\n",
      "  ARPU control: 722.46\n",
      "  p-value:      0.6890\n",
      "  Вывод: Различия НЕзначимы ❌\n",
      "\n",
      "Эксперимент 2:\n",
      "  ARPU test:    332.93\n",
      "  ARPU control: 704.65\n",
      "  p-value:      0.0011\n",
      "  Вывод: Различия статистически значимы ✅\n",
      "\n",
      "Эксперимент 3:\n",
      "  ARPU test:    998.67\n",
      "  ARPU control: 663.21\n",
      "  p-value:      0.0603\n",
      "  Вывод: Различия НЕзначимы ❌\n",
      "\n"
     ]
    }
   ],
   "source": [
    "from scipy.stats import ttest_ind\n",
    "\n",
    "for exp_num in df_ab['experiment_num'].unique():\n",
    "    df_exp = df_ab[df_ab['experiment_num'] == exp_num]\n",
    "    \n",
    "    test_group = df_exp[df_exp['experiment_group'] == 'test']['revenue']\n",
    "    control_group = df_exp[df_exp['experiment_group'] == 'control']['revenue']\n",
    "    \n",
    "    arpu_test = test_group.mean()\n",
    "    arpu_control = control_group.mean()\n",
    "    \n",
    "    stat, p_value = ttest_ind(test_group, control_group, equal_var=False)\n",
    "    \n",
    "    print(f'Эксперимент {exp_num}:')\n",
    "    print(f'  ARPU test:    {arpu_test:.2f}')\n",
    "    print(f'  ARPU control: {arpu_control:.2f}')\n",
    "    print(f'  p-value:      {p_value:.4f}')\n",
    "    print('  Вывод:', 'Различия статистически значимы ✅' if p_value < 0.05 else 'Различия НЕзначимы ❌')\n",
    "    print()"
   ]
  },
  {
   "cell_type": "code",
   "execution_count": 26,
   "id": "c83df290-ecfc-417d-a123-93b1165fb86f",
   "metadata": {},
   "outputs": [],
   "source": [
    "#9"
   ]
  },
  {
   "cell_type": "code",
   "execution_count": 27,
   "id": "0f8eeda4-e9a5-4b68-a73a-4f6a8c7771bd",
   "metadata": {},
   "outputs": [
    {
     "data": {
      "text/html": [
       "<div>\n",
       "<style scoped>\n",
       "    .dataframe tbody tr th:only-of-type {\n",
       "        vertical-align: middle;\n",
       "    }\n",
       "\n",
       "    .dataframe tbody tr th {\n",
       "        vertical-align: top;\n",
       "    }\n",
       "\n",
       "    .dataframe thead th {\n",
       "        text-align: right;\n",
       "    }\n",
       "</style>\n",
       "<table border=\"1\" class=\"dataframe\">\n",
       "  <thead>\n",
       "    <tr style=\"text-align: right;\">\n",
       "      <th></th>\n",
       "      <th>user_id</th>\n",
       "      <th>date</th>\n",
       "      <th>cnt_adverts</th>\n",
       "      <th>age</th>\n",
       "      <th>cnt_contacts</th>\n",
       "      <th>revenue</th>\n",
       "    </tr>\n",
       "  </thead>\n",
       "  <tbody>\n",
       "    <tr>\n",
       "      <th>0</th>\n",
       "      <td>100</td>\n",
       "      <td>2022-01-01</td>\n",
       "      <td>6</td>\n",
       "      <td>21</td>\n",
       "      <td>119</td>\n",
       "      <td>53</td>\n",
       "    </tr>\n",
       "    <tr>\n",
       "      <th>1</th>\n",
       "      <td>100</td>\n",
       "      <td>2022-01-02</td>\n",
       "      <td>2</td>\n",
       "      <td>21</td>\n",
       "      <td>200</td>\n",
       "      <td>18</td>\n",
       "    </tr>\n",
       "    <tr>\n",
       "      <th>2</th>\n",
       "      <td>100</td>\n",
       "      <td>2022-01-03</td>\n",
       "      <td>6</td>\n",
       "      <td>21</td>\n",
       "      <td>193</td>\n",
       "      <td>42</td>\n",
       "    </tr>\n",
       "    <tr>\n",
       "      <th>3</th>\n",
       "      <td>100</td>\n",
       "      <td>2022-01-04</td>\n",
       "      <td>2</td>\n",
       "      <td>21</td>\n",
       "      <td>143</td>\n",
       "      <td>38</td>\n",
       "    </tr>\n",
       "    <tr>\n",
       "      <th>4</th>\n",
       "      <td>100</td>\n",
       "      <td>2022-01-05</td>\n",
       "      <td>2</td>\n",
       "      <td>21</td>\n",
       "      <td>190</td>\n",
       "      <td>40</td>\n",
       "    </tr>\n",
       "  </tbody>\n",
       "</table>\n",
       "</div>"
      ],
      "text/plain": [
       "   user_id       date  cnt_adverts  age  cnt_contacts  revenue\n",
       "0      100 2022-01-01            6   21           119       53\n",
       "1      100 2022-01-02            2   21           200       18\n",
       "2      100 2022-01-03            6   21           193       42\n",
       "3      100 2022-01-04            2   21           143       38\n",
       "4      100 2022-01-05            2   21           190       40"
      ]
     },
     "execution_count": 27,
     "metadata": {},
     "output_type": "execute_result"
    }
   ],
   "source": [
    "df_listers = pd.read_excel('Данные для тестового задания.xlsx', sheet_name='Листеры')\n",
    "df_listers.head()"
   ]
  },
  {
   "cell_type": "code",
   "execution_count": 28,
   "id": "3dbcf7ae-d186-4f63-9eca-c5e9738706bc",
   "metadata": {},
   "outputs": [
    {
     "name": "stdout",
     "output_type": "stream",
     "text": [
      "156.5\n"
     ]
    }
   ],
   "source": [
    "average_income = df_listers['revenue'].sum() / df_listers['user_id'].nunique()\n",
    "print(round(average_income, 1))"
   ]
  },
  {
   "cell_type": "code",
   "execution_count": 29,
   "id": "2192f918-02e1-42bd-9bfb-23dac6746499",
   "metadata": {},
   "outputs": [],
   "source": [
    "#10"
   ]
  },
  {
   "cell_type": "code",
   "execution_count": 30,
   "id": "0fb2df05-87da-4a64-b0cc-e6787f666fdb",
   "metadata": {},
   "outputs": [],
   "source": [
    "df_listers = pd.read_excel('Данные для тестового задания.xlsx', sheet_name='Листеры')"
   ]
  },
  {
   "cell_type": "code",
   "execution_count": 31,
   "id": "0c13f6b5-f757-4920-b427-3af7ddb7baf6",
   "metadata": {},
   "outputs": [
    {
     "data": {
      "text/plain": [
       "Index(['user_id', 'date', 'cnt_adverts', 'age', 'cnt_contacts', 'revenue'], dtype='object')"
      ]
     },
     "execution_count": 31,
     "metadata": {},
     "output_type": "execute_result"
    }
   ],
   "source": [
    "df_listers.columns"
   ]
  },
  {
   "cell_type": "code",
   "execution_count": 32,
   "id": "14874dd0-6e27-4ba6-ae30-0a5eefac929a",
   "metadata": {},
   "outputs": [
    {
     "name": "stdout",
     "output_type": "stream",
     "text": [
      "28.0\n"
     ]
    }
   ],
   "source": [
    "median_age = df_listers['age'].median()\n",
    "print(round(median_age, 2))"
   ]
  },
  {
   "cell_type": "code",
   "execution_count": 33,
   "id": "50e2c27d-0fbf-4148-bcbc-76fce94ff2f3",
   "metadata": {},
   "outputs": [],
   "source": [
    "#18"
   ]
  },
  {
   "cell_type": "code",
   "execution_count": 35,
   "id": "31ee99c1-4b30-4527-ba17-b71b600d4efe",
   "metadata": {},
   "outputs": [
    {
     "name": "stdout",
     "output_type": "stream",
     "text": [
      "Конверсия A: 0.00001003 (0.001003%)\n",
      "Конверсия B: 0.00001099 (0.001099%)\n"
     ]
    }
   ],
   "source": [
    "conv_A = 1003 / 100047501\n",
    "conv_B = 1099 / 100001055\n",
    "\n",
    "print(f\"Конверсия A: {conv_A:.8f} ({conv_A*100:.6f}%)\")\n",
    "print(f\"Конверсия B: {conv_B:.8f} ({conv_B*100:.6f}%)\")"
   ]
  },
  {
   "cell_type": "code",
   "execution_count": 36,
   "id": "1384c7c5-a7fa-4741-90ae-31ee650b7d7f",
   "metadata": {},
   "outputs": [
    {
     "name": "stdout",
     "output_type": "stream",
     "text": [
      "Z-статистика: -2.1046\n",
      "P-value: 0.035330\n"
     ]
    }
   ],
   "source": [
    "from statsmodels.stats.proportion import proportions_ztest\n",
    "successes = [1003, 1099]\n",
    "n_obs = [100047501, 100001055]\n",
    "z_stat, p_val = proportions_ztest(successes, n_obs)\n",
    "\n",
    "print(f\"Z-статистика: {z_stat:.4f}\")\n",
    "print(f\"P-value: {p_val:.6f}\")"
   ]
  },
  {
   "cell_type": "code",
   "execution_count": null,
   "id": "ff0b46c3-31a0-4a1c-b8ba-76d959711ffc",
   "metadata": {},
   "outputs": [],
   "source": []
  }
 ],
 "metadata": {
  "kernelspec": {
   "display_name": "Python [conda env:base] *",
   "language": "python",
   "name": "conda-base-py"
  },
  "language_info": {
   "codemirror_mode": {
    "name": "ipython",
    "version": 3
   },
   "file_extension": ".py",
   "mimetype": "text/x-python",
   "name": "python",
   "nbconvert_exporter": "python",
   "pygments_lexer": "ipython3",
   "version": "3.12.7"
  }
 },
 "nbformat": 4,
 "nbformat_minor": 5
}
